{
 "cells": [
  {
   "cell_type": "code",
   "execution_count": 25,
   "metadata": {},
   "outputs": [],
   "source": [
    "import requests\n",
    "import lxml.html\n",
    "import re\n",
    "import time"
   ]
  },
  {
   "cell_type": "code",
   "execution_count": 26,
   "metadata": {},
   "outputs": [],
   "source": [
    "def main():\n",
    "    # 여러 페이지에서 크롤링을 위해 Session 사용\n",
    "    session = requests.Session()  \n",
    "    # scrape_list_page() 함수를 호출해서 제너레이터를 추출\n",
    "    response = session.get('http://www.hanbit.co.kr/store/books/new_book_list.html')\n",
    "    urls = scrape_list_page(response)\n",
    "    for url in urls:\n",
    "        time.sleep(1) # 1초간 대기\n",
    "        response = session.get(url)  # Session을 사용해 상세 페이지를 추출\n",
    "        ebook = scrape_detail_page(response)  # 상세 페이지에서 상세 정보를 추출\n",
    "        print(ebook)  # 상세 정보 출력\n",
    "        #break  #하나의 목록으로 테스트 해보기 (break를 주석처리하면 전체를 가져오게 됨)"
   ]
  },
  {
   "cell_type": "code",
   "execution_count": 27,
   "metadata": {},
   "outputs": [],
   "source": [
    "def scrape_list_page(response):\n",
    "    root = lxml.html.fromstring(response.content)\n",
    "    root.make_links_absolute(response.url)\n",
    "    for a in root.cssselect('.view_box .book_tit a'):\n",
    "        url = a.get('href')\n",
    "        yield url"
   ]
  },
  {
   "cell_type": "code",
   "execution_count": 28,
   "metadata": {},
   "outputs": [],
   "source": [
    "def scrape_detail_page(response):\n",
    "    \"\"\"\n",
    "    상세 페이지의 Response에서 책 정보를 dict로 추출\n",
    "    \"\"\"\n",
    "    root = lxml.html.fromstring(response.content)\n",
    "    ebook = {\n",
    "        'url': response.url,\n",
    "        'title': root.cssselect('.store_product_info_box h3')[0].text_content(),\n",
    "        'price': root.cssselect('.pbr strong')[0].text_content(),\n",
    "    }\n",
    "    return ebook"
   ]
  },
  {
   "cell_type": "code",
   "execution_count": 29,
   "metadata": {},
   "outputs": [],
   "source": [
    "def normalize_spaces(s):\n",
    "    \"\"\"\n",
    "    연결된 공백을 하나의 공백으로 변경\n",
    "    \"\"\"\n",
    "    return re.sub(r'\\s+', ' ', s).strip()"
   ]
  },
  {
   "cell_type": "code",
   "execution_count": 30,
   "metadata": {},
   "outputs": [
    {
     "name": "stdout",
     "output_type": "stream",
     "text": [
      "{'url': 'https://www.hanbit.co.kr/store/books/look.php?p_code=B9143267027', 'title': '청소년 인문학 수업 - 1권', 'price': '16,650'}\n",
      "{'url': 'https://www.hanbit.co.kr/store/books/look.php?p_code=B3517216657', 'title': '청소년 인문학 수업 - 2권', 'price': '16,650'}\n",
      "{'url': 'https://www.hanbit.co.kr/store/books/look.php?p_code=B4872223435', 'title': '처음 시작하는 파이썬(2판)', 'price': '32,400'}\n",
      "{'url': 'https://www.hanbit.co.kr/store/books/look.php?p_code=B9279330130', 'title': '게임 오버', 'price': '22,500'}\n",
      "{'url': 'https://www.hanbit.co.kr/store/books/look.php?p_code=B6787201225', 'title': '처음 시작하는 딥러닝', 'price': '20,700'}\n",
      "{'url': 'https://www.hanbit.co.kr/store/books/look.php?p_code=B3963656224', 'title': '초소형 머신러닝 TinyML', 'price': '36,000'}\n",
      "{'url': 'https://www.hanbit.co.kr/store/books/look.php?p_code=B1740090592', 'title': '퀀트 전략을 위한 인공지능 트레이딩', 'price': '25,200'}\n",
      "{'url': 'https://www.hanbit.co.kr/store/books/look.php?p_code=B2672932319', 'title': '회사에서 바로 통하는 실무 엑셀 매크로&VBA', 'price': '21,600'}\n",
      "{'url': 'https://www.hanbit.co.kr/store/books/look.php?p_code=B3872657116', 'title': '오늘도 뇌는 거짓말을 한다', 'price': '14,220'}\n",
      "{'url': 'https://www.hanbit.co.kr/store/books/look.php?p_code=B8226621719', 'title': '허팝만 따라 해봐! 유튜브 정석', 'price': '13,500'}\n",
      "{'url': 'https://www.hanbit.co.kr/store/books/look.php?p_code=B9479195027', 'title': '딥러닝을 위한 선형대수학', 'price': '38,000'}\n",
      "{'url': 'https://www.hanbit.co.kr/store/books/look.php?p_code=B8945183661', 'title': '이것이 취업을 위한 코딩 테스트다 with 파이썬', 'price': '30,600'}\n",
      "{'url': 'https://www.hanbit.co.kr/store/books/look.php?p_code=B8460934222', 'title': '유닉스의 탄생', 'price': '18,000'}\n",
      "{'url': 'https://www.hanbit.co.kr/store/books/look.php?p_code=B1191734987', 'title': '회사에서 바로 통하는  오토캐드 AutoCAD 2021', 'price': '25,200'}\n",
      "{'url': 'https://www.hanbit.co.kr/store/books/look.php?p_code=B2082711299', 'title': 'IT CookBook, 오라클로 배우는 데이터베이스 개론과 실습(2판)', 'price': '29,000'}\n",
      "{'url': 'https://www.hanbit.co.kr/store/books/look.php?p_code=B5877288702', 'title': '별, 걔 다 그립네', 'price': '10,080'}\n",
      "{'url': 'https://www.hanbit.co.kr/store/books/look.php?p_code=B1825116777', 'title': '대학을 버려야 대학이 산다', 'price': '18,000'}\n",
      "{'url': 'https://www.hanbit.co.kr/store/books/look.php?p_code=B5937482728', 'title': 'IT CookBook, 따라 하면서 배우는 사물인터넷', 'price': '28,000'}\n",
      "{'url': 'https://www.hanbit.co.kr/store/books/look.php?p_code=B8656803901', 'title': '우리 아이 처음 놀이', 'price': '13,500'}\n",
      "{'url': 'https://www.hanbit.co.kr/store/books/look.php?p_code=B3397547488', 'title': '재미있고 빠른 첫 한글 4권 쌍자음∙받침', 'price': '5,850'}\n"
     ]
    }
   ],
   "source": [
    "if __name__ == '__main__':\n",
    "    main()"
   ]
  },
  {
   "cell_type": "code",
   "execution_count": null,
   "metadata": {},
   "outputs": [],
   "source": []
  },
  {
   "cell_type": "code",
   "execution_count": null,
   "metadata": {},
   "outputs": [],
   "source": []
  }
 ],
 "metadata": {
  "kernelspec": {
   "display_name": "Python 3",
   "language": "python",
   "name": "python3"
  },
  "language_info": {
   "codemirror_mode": {
    "name": "ipython",
    "version": 3
   },
   "file_extension": ".py",
   "mimetype": "text/x-python",
   "name": "python",
   "nbconvert_exporter": "python",
   "pygments_lexer": "ipython3",
   "version": "3.8.3"
  }
 },
 "nbformat": 4,
 "nbformat_minor": 4
}
