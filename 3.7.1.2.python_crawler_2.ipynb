{
 "cells": [
  {
   "cell_type": "code",
   "execution_count": 1,
   "metadata": {},
   "outputs": [],
   "source": [
    "import requests\n",
    "import lxml.html"
   ]
  },
  {
   "cell_type": "code",
   "execution_count": 2,
   "metadata": {},
   "outputs": [],
   "source": [
    "response = requests.get('http://www.hanbit.co.kr/store/books/new_book_list.html')\n",
    "root = lxml.html.fromstring(response.content)"
   ]
  },
  {
   "cell_type": "code",
   "execution_count": 3,
   "metadata": {},
   "outputs": [
    {
     "name": "stdout",
     "output_type": "stream",
     "text": [
      "https://www.hanbit.co.kr/store/books/look.php?p_code=B9143267027\n",
      "https://www.hanbit.co.kr/store/books/look.php?p_code=B3517216657\n",
      "https://www.hanbit.co.kr/store/books/look.php?p_code=B4872223435\n",
      "https://www.hanbit.co.kr/store/books/look.php?p_code=B9279330130\n",
      "https://www.hanbit.co.kr/store/books/look.php?p_code=B6787201225\n",
      "https://www.hanbit.co.kr/store/books/look.php?p_code=B3963656224\n",
      "https://www.hanbit.co.kr/store/books/look.php?p_code=B1740090592\n",
      "https://www.hanbit.co.kr/store/books/look.php?p_code=B2672932319\n",
      "https://www.hanbit.co.kr/store/books/look.php?p_code=B3872657116\n",
      "https://www.hanbit.co.kr/store/books/look.php?p_code=B8226621719\n",
      "https://www.hanbit.co.kr/store/books/look.php?p_code=B9479195027\n",
      "https://www.hanbit.co.kr/store/books/look.php?p_code=B8945183661\n",
      "https://www.hanbit.co.kr/store/books/look.php?p_code=B8460934222\n",
      "https://www.hanbit.co.kr/store/books/look.php?p_code=B1191734987\n",
      "https://www.hanbit.co.kr/store/books/look.php?p_code=B2082711299\n",
      "https://www.hanbit.co.kr/store/books/look.php?p_code=B5877288702\n",
      "https://www.hanbit.co.kr/store/books/look.php?p_code=B1825116777\n",
      "https://www.hanbit.co.kr/store/books/look.php?p_code=B5937482728\n",
      "https://www.hanbit.co.kr/store/books/look.php?p_code=B8656803901\n",
      "https://www.hanbit.co.kr/store/books/look.php?p_code=B3397547488\n"
     ]
    }
   ],
   "source": [
    "# 모든 링크를 절대 URL로 변환\n",
    "root.make_links_absolute(response.url)\n",
    "\n",
    "# 목록에서 javascript 제거\n",
    "for a in root.cssselect('.view_box .book_tit a'):\n",
    "    url = a.get('href')\n",
    "    print(url)"
   ]
  },
  {
   "cell_type": "code",
   "execution_count": null,
   "metadata": {},
   "outputs": [],
   "source": []
  }
 ],
 "metadata": {
  "kernelspec": {
   "display_name": "Python 3",
   "language": "python",
   "name": "python3"
  },
  "language_info": {
   "codemirror_mode": {
    "name": "ipython",
    "version": 3
   },
   "file_extension": ".py",
   "mimetype": "text/x-python",
   "name": "python",
   "nbconvert_exporter": "python",
   "pygments_lexer": "ipython3",
   "version": "3.8.3"
  }
 },
 "nbformat": 4,
 "nbformat_minor": 4
}
